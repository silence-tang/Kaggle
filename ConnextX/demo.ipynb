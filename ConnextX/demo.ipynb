{
 "cells": [
  {
   "cell_type": "markdown",
   "metadata": {},
   "source": [
    "#### 1. 加载预训练模型"
   ]
  },
  {
   "cell_type": "code",
   "execution_count": 26,
   "metadata": {},
   "outputs": [],
   "source": [
    "import torch\n",
    "import torchvision\n",
    "import torch.nn as nn\n",
    "import torch.nn.functional as F\n",
    "\n",
    "class LeNet(nn.Module):\n",
    "    def __init__(self):\n",
    "        # 继承超类所有方法\n",
    "        super(LeNet, self).__init__()\n",
    "        self.conv1 = nn.Sequential(\n",
    "            # 输入图像只有1个通道，尺寸为28×28，padding=2保持卷积后图像大小不变，用6个5×5卷积核进行卷积，输出图尺寸为28×28\n",
    "            nn.Conv2d(in_channels = 1, out_channels = 6, kernel_size = 5, stride = 1, padding = 2),\n",
    "            # 在通道上进行BN\n",
    "            nn.BatchNorm2d(6),\n",
    "            nn.ReLU(),\n",
    "            nn.MaxPool2d(2, 2),\n",
    "            # 第一个池化层输出为6×14×14\n",
    "        )\n",
    "        self.conv2 = nn.Sequential(\n",
    "            # 第二个卷积层，输入为6×14×14，无填充，输出为16×10×10\n",
    "            nn.Conv2d(in_channels = 6, out_channels = 16, kernel_size = 5, stride = 1),\n",
    "            # 在通道上进行BN\n",
    "            nn.BatchNorm2d(16),\n",
    "            nn.ReLU(),\n",
    "            nn.MaxPool2d(2, 2),\n",
    "            # 第二个池化层输出为16×5×5\n",
    "        )\n",
    "        self.fc1 = nn.Sequential(\n",
    "            nn.Linear(16 * 5 * 5, 120),\n",
    "            # 论文中该层其实不是FC，且没有激活函数，这里简化了\n",
    "            nn.Dropout(),\n",
    "            nn.ReLU()\n",
    "        )\n",
    "        self.fc2 = nn.Sequential(\n",
    "            nn.Linear(in_features = 120, out_features = 84),\n",
    "            nn.Dropout(),\n",
    "            nn.ReLU()\n",
    "        )\n",
    "        # 这里没用径向基函数\n",
    "        self.fc3 = nn.Linear(in_features = 84, out_features = 10)\n",
    "\n",
    "    # 定义前向传播过程，输入为x\n",
    "    def forward(self, x):\n",
    "        x = self.conv1(x)\n",
    "        x = self.conv2(x)\n",
    "        # nn.Linear()的输入输出都是维度为一的值，所以要把多维度的tensor展平成一维\n",
    "        x = x.view(-1, self.num_flat_features(x))\n",
    "        x = self.fc1(x)\n",
    "        x = self.fc2(x)\n",
    "        x = self.fc3(x)\n",
    "        return x\n",
    "\n",
    "    # 使用num_flat_features函数计算张量x的总特征量. 比如x是4*2*2的张量，那么它的特征总量就是16\n",
    "    def num_flat_features(self, x):\n",
    "        # nn.Conv2d允许输入4维的Tensor：n个样本 x n个通道 x 高度 x 宽度\n",
    "        # 这里为了计算总特征数，我们只取后三个维度各自的特征，所以是[1:]\n",
    "        size = x.size()[1:] \n",
    "        # 初始化特征数为1\n",
    "        num_features = 1\n",
    "        # 将各维度特征数相乘。假设：通道数=3，高=10，宽=10\n",
    "        # 则num_features = 3*10*10 = 300\n",
    "        for s in size:\n",
    "            num_features *= s\n",
    "        return num_features\n",
    "\n",
    "if __name__ == '__main__':\n",
    "\n",
    "    # 加载训练好的LeNet模型\n",
    "    lenet = torch.load(r'C:\\Users\\HP\\Desktop\\PythonLearning\\model\\LeNet_Trained_Model\\LeNet.pkl')\n",
    "    # 将模型迁移到GPU上进行计算\n",
    "    lenet = lenet.cuda()"
   ]
  },
  {
   "cell_type": "markdown",
   "metadata": {},
   "source": [
    "#### 2. 定义显示图片的函数"
   ]
  },
  {
   "cell_type": "code",
   "execution_count": null,
   "metadata": {},
   "outputs": [],
   "source": [
    "import numpy as np\n",
    "import matplotlib.pyplot as plt\n",
    "\n",
    "def imshow(img):\n",
    "    # 逆归一化\n",
    "    img = img / 2 + 0.5\n",
    "    npimg = img.numpy()\n",
    "    plt.imshow(np.transpose(npimg, (1, 2, 0)))\n",
    "    plt.show()"
   ]
  },
  {
   "cell_type": "markdown",
   "metadata": {},
   "source": [
    "#### 3. 定义函数将表格数据转为可以直接喂入网络的4维张量"
   ]
  },
  {
   "cell_type": "code",
   "execution_count": null,
   "metadata": {},
   "outputs": [],
   "source": [
    "def row2tensor(data):\n",
    "    # 初始化结果集\n",
    "    a = []\n",
    "    # 遍历整个数据集\n",
    "    for i in range(len(data)):\n",
    "        # 先转为array，存放在列表中\n",
    "        temp_row = data.loc[i].values\n",
    "        temp_row = temp_row.reshape((28,28))\n",
    "        a.append(temp_row)\n",
    "    # 再转为tensor+移至gpu\n",
    "    tensordata = torch.from_numpy(np.array(a)).float().cuda()\n",
    "    tensordata = tensordata.reshape(len(data), 1, 28, 28)\n",
    "    return tensordata"
   ]
  },
  {
   "cell_type": "markdown",
   "metadata": {},
   "source": [
    "#### 4. 定义函数计算训练集预测正确率"
   ]
  },
  {
   "cell_type": "code",
   "execution_count": null,
   "metadata": {},
   "outputs": [],
   "source": [
    "def calc_acc(img, train_label):\n",
    "    output = lenet(img)\n",
    "    # 对每一列进行softmax归一化，输出预测概率值\n",
    "    p = F.softmax(output, dim=1)\n",
    "    # 把CUDA tensor类型的数据转换为numpy类型时要先将其转换成cpu float tensor再转为numpy\n",
    "    p = p.cpu().detach().numpy()\n",
    "    # 输出预测类别\n",
    "    pred_cls = np.argmax(p, axis=1)\n",
    "    print('预测类别：{}'.format(pred_cls))\n",
    "    # 计算预测正确率\n",
    "    num = img.shape[0]  # 批次大小\n",
    "    acc = sum((pred_cls == train_label[:num]) == 1) / num\n",
    "    print('预测正确率：{}%'.format(acc * 100))\n",
    "    return pred_cls"
   ]
  },
  {
   "cell_type": "markdown",
   "metadata": {},
   "source": [
    "#### 5. 定义函数计算测试集预测类别"
   ]
  },
  {
   "cell_type": "code",
   "execution_count": null,
   "metadata": {},
   "outputs": [],
   "source": [
    "def calc_cls(img):\n",
    "    output = lenet(img)\n",
    "    # 对每一列进行softmax归一化，输出预测概率值\n",
    "    p = F.softmax(output, dim=1)\n",
    "    # 把CUDA tensor类型的数据转换为numpy类型时要先将其转换成cpu float tensor再转为numpy\n",
    "    p = p.cpu().detach().numpy()\n",
    "    # 输出预测类别\n",
    "    return np.argmax(p, axis=1)"
   ]
  },
  {
   "cell_type": "markdown",
   "metadata": {},
   "source": [
    "#### 6. 读取训练集前64个数据，可视化数字图像并计算预测正确率"
   ]
  },
  {
   "cell_type": "code",
   "execution_count": null,
   "metadata": {},
   "outputs": [],
   "source": [
    "import pandas as pd"
   ]
  },
  {
   "cell_type": "code",
   "execution_count": null,
   "metadata": {},
   "outputs": [],
   "source": [
    "# 读取训练集数据\n",
    "train_data = pd.read_csv('train.csv')\n",
    "train_data"
   ]
  },
  {
   "cell_type": "code",
   "execution_count": null,
   "metadata": {},
   "outputs": [],
   "source": [
    "# 提取训练集标签并转为数组，提取训练集图像数据\n",
    "train_label = np.array(train_data.iloc[:,0])    # 第一列是标签\n",
    "train_data = train_data.iloc[:,1:]\n",
    "print('训练集标签：{}'.format(train_label))\n",
    "print('训练集图像数据尺寸：{}'.format(train_data.shape))"
   ]
  },
  {
   "cell_type": "code",
   "execution_count": null,
   "metadata": {},
   "outputs": [],
   "source": [
    "# 将训练集数据转为4维张量\n",
    "train_img = row2tensor(train_data)\n",
    "train_img.shape    # torch.Size([42000, 1, 28, 28])"
   ]
  },
  {
   "cell_type": "code",
   "execution_count": null,
   "metadata": {},
   "outputs": [],
   "source": [
    "# 预测训练集前64个图像的标签\n",
    "# 可视化显示这64张图片\n",
    "imshow(torchvision.utils.make_grid(train_img[:64, :, :, :].cpu()))\n",
    "calc_acc(train_img[:64, :, :, :], train_label)"
   ]
  },
  {
   "cell_type": "markdown",
   "metadata": {},
   "source": [
    "#### 7. 计算训练集前28000张图像的预测正确率"
   ]
  },
  {
   "cell_type": "code",
   "execution_count": 33,
   "metadata": {},
   "outputs": [
    {
     "name": "stdout",
     "output_type": "stream",
     "text": [
      "预测类别：[1 0 1 ... 1 1 1]\n",
      "预测正确率：99.86363636363636%\n"
     ]
    },
    {
     "data": {
      "text/plain": [
       "array([1, 0, 1, ..., 1, 1, 1], dtype=int64)"
      ]
     },
     "execution_count": 33,
     "metadata": {},
     "output_type": "execute_result"
    }
   ],
   "source": [
    "calc_acc(train_img[:22000, :, :, :], train_label)"
   ]
  },
  {
   "cell_type": "markdown",
   "metadata": {},
   "source": [
    "#### 8. 计算测试集预测正确率"
   ]
  },
  {
   "cell_type": "code",
   "execution_count": 23,
   "metadata": {},
   "outputs": [
    {
     "data": {
      "text/plain": [
       "torch.Size([28000, 1, 28, 28])"
      ]
     },
     "execution_count": 23,
     "metadata": {},
     "output_type": "execute_result"
    }
   ],
   "source": [
    "# 读取测试集数据\n",
    "test_data = pd.read_csv('test.csv')\n",
    "# 将原始数据集转为4维张量\n",
    "test_img = row2tensor(test_data)\n",
    "# 输出训练集和测试集张量尺寸\n",
    "test_img.shape"
   ]
  },
  {
   "cell_type": "code",
   "execution_count": null,
   "metadata": {},
   "outputs": [],
   "source": [
    "# 可视化部分图像\n",
    "imshow(torchvision.utils.make_grid(test_img[1900:2000, :, :, :].cpu()))"
   ]
  },
  {
   "cell_type": "code",
   "execution_count": 24,
   "metadata": {},
   "outputs": [
    {
     "data": {
      "text/plain": [
       "array([2, 0, 9, ..., 3, 9, 2], dtype=int64)"
      ]
     },
     "execution_count": 24,
     "metadata": {},
     "output_type": "execute_result"
    }
   ],
   "source": [
    "# 计算预测类别\n",
    "test_pred_cls = calc_cls(test_img)\n",
    "test_pred_cls"
   ]
  },
  {
   "cell_type": "markdown",
   "metadata": {},
   "source": [
    "#### 9. 输出预测结果至csv文件中"
   ]
  },
  {
   "cell_type": "code",
   "execution_count": 25,
   "metadata": {},
   "outputs": [],
   "source": [
    "# 输出预测结果\n",
    "submission = pd.read_csv('sample_submission.csv')\n",
    "submission.Label = test_pred_cls\n",
    "# 删除包含Unnamed的列\n",
    "# submission = submission.loc[:, ~submission.columns.str.contains('Unnamed')]\n",
    "submission.to_csv('sample_submission.csv', index=False)"
   ]
  }
 ],
 "metadata": {
  "interpreter": {
   "hash": "7ed5d28141691612d71519d8911226784beabf8c47b9611a3ef261a30d780d7a"
  },
  "kernelspec": {
   "display_name": "Python 3.6.13 ('gluon')",
   "language": "python",
   "name": "python3"
  },
  "language_info": {
   "codemirror_mode": {
    "name": "ipython",
    "version": 3
   },
   "file_extension": ".py",
   "mimetype": "text/x-python",
   "name": "python",
   "nbconvert_exporter": "python",
   "pygments_lexer": "ipython3",
   "version": "3.6.13"
  },
  "orig_nbformat": 4
 },
 "nbformat": 4,
 "nbformat_minor": 2
}
